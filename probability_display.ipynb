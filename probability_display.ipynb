{
 "cells": [
  {
   "cell_type": "code",
   "execution_count": 1,
   "id": "2c272e44",
   "metadata": {},
   "outputs": [
    {
     "name": "stdout",
     "output_type": "stream",
     "text": [
      "Enter MEAN =45\n",
      "Enter STANDARD DEVIATION=25\n",
      "Enter your condition =1\n",
      "Enter the first value=21\n",
      "Enter the second value=23\n",
      "Probability between 21.0 and  23.0 is = 0.020902047309874328\n",
      "Probability in % = 2.0902047309874328\n",
      "**********CODE HAS PASSED SUCCESSFULLY***********\n"
     ]
    }
   ],
   "source": [
    "import statistics as s\n",
    "n1=float(input(\"Enter MEAN =\"))\n",
    "n2=float(input(\"Enter STANDARD DEVIATION=\"))\n",
    "nd=s.NormalDist(mu=n1,sigma=n2)\n",
    "condition_1=\"probability is lesser than or equal\"\n",
    "condition_2=\"probability between two ranges\"\n",
    "co=int(input(\"Enter your condition =\"))\n",
    "if(co==condition_1):\n",
    "  val1=float(input(\"Enter the value=\"))\n",
    "  n=nd.cdf(val1)\n",
    "  print(\"Probability greater than or equal to\",val1,\"is =\",n)\n",
    "  print(\"Probability in % =\",n*100)\n",
    "else:\n",
    "  val1=float(input(\"Enter the first value=\"))\n",
    "  val2=float(input(\"Enter the second value=\"))\n",
    "  n=nd.cdf(val2)-nd.cdf(val1)\n",
    "  print(\"Probability between\",val1,\"and \",val2,\"is =\",n)\n",
    "  print(\"Probability in % =\",n*100)\n",
    "  print(\"**********CODE HAS PASSED SUCCESSFULLY***********\")\n",
    "  \n",
    "  \n",
    "  \n",
    "  \n",
    "  \n"
   ]
  },
  {
   "cell_type": "code",
   "execution_count": null,
   "id": "828e2ace",
   "metadata": {},
   "outputs": [],
   "source": []
  }
 ],
 "metadata": {
  "kernelspec": {
   "display_name": "Python 3 (ipykernel)",
   "language": "python",
   "name": "python3"
  },
  "language_info": {
   "codemirror_mode": {
    "name": "ipython",
    "version": 3
   },
   "file_extension": ".py",
   "mimetype": "text/x-python",
   "name": "python",
   "nbconvert_exporter": "python",
   "pygments_lexer": "ipython3",
   "version": "3.9.7"
  }
 },
 "nbformat": 4,
 "nbformat_minor": 5
}
